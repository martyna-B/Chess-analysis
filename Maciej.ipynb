{
 "cells": [
  {
   "cell_type": "code",
   "execution_count": 9,
   "metadata": {
    "vscode": {
     "languageId": "r"
    }
   },
   "outputs": [
    {
     "ename": "ERROR",
     "evalue": "Error: package or namespace load failed for 'tidyverse' in loadNamespace(j <- i[[1L]], c(lib.loc, .libPaths()), versionCheck = vI[[j]]):\n there is no package called 'broom'\n",
     "output_type": "error",
     "traceback": [
      "Error: package or namespace load failed for 'tidyverse' in loadNamespace(j <- i[[1L]], c(lib.loc, .libPaths()), versionCheck = vI[[j]]):\n there is no package called 'broom'\nTraceback:\n",
      "1. library(\"tidyverse\")",
      "2. tryCatch({\n .     attr(package, \"LibPath\") <- which.lib.loc\n .     ns <- loadNamespace(package, lib.loc)\n .     env <- attachNamespace(ns, pos = pos, deps, exclude, include.only)\n . }, error = function(e) {\n .     P <- if (!is.null(cc <- conditionCall(e))) \n .         paste(\" in\", deparse(cc)[1L])\n .     else \"\"\n .     msg <- gettextf(\"package or namespace load failed for %s%s:\\n %s\", \n .         sQuote(package), P, conditionMessage(e))\n .     if (logical.return) \n .         message(paste(\"Error:\", msg), domain = NA)\n .     else stop(msg, call. = FALSE, domain = NA)\n . })",
      "3. tryCatchList(expr, classes, parentenv, handlers)",
      "4. tryCatchOne(expr, names, parentenv, handlers[[1L]])",
      "5. value[[3L]](cond)",
      "6. stop(msg, call. = FALSE, domain = NA)"
     ]
    }
   ],
   "source": [
    "library('tidyverse')\n",
    "library('reshape2')\n",
    "library('boot')\n",
    "library('gridExtra')\n",
    "# library('GGally')\n",
    "# install.packages('broom')\n",
    "# install.packages('bootstrap')\n",
    "# install.packages('gridExtra')"
   ]
  },
  {
   "cell_type": "code",
   "execution_count": 2,
   "metadata": {
    "vscode": {
     "languageId": "r"
    }
   },
   "outputs": [],
   "source": [
    "df <- read.csv(file = \"C:/Users/mkarc/Gauus/Chess-analysis/chess_games.csv\")"
   ]
  },
  {
   "cell_type": "code",
   "execution_count": 3,
   "metadata": {
    "vscode": {
     "languageId": "r"
    }
   },
   "outputs": [
    {
     "ename": "ERROR",
     "evalue": "Error in distinct(df): nie udało się znaleźć funkcji 'distinct'\n",
     "output_type": "error",
     "traceback": [
      "Error in distinct(df): nie udało się znaleźć funkcji 'distinct'\nTraceback:\n"
     ]
    }
   ],
   "source": [
    "df <- na.omit(df)\n",
    "df <- distinct(df)"
   ]
  },
  {
   "cell_type": "code",
   "execution_count": null,
   "metadata": {
    "vscode": {
     "languageId": "r"
    }
   },
   "outputs": [
    {
     "data": {
      "text/html": [
       "<table>\n",
       "<thead><tr><th scope=col>id</th><th scope=col>rated</th><th scope=col>created_at</th><th scope=col>last_move_at</th><th scope=col>turns</th><th scope=col>victory_status</th><th scope=col>winner</th><th scope=col>increment_code</th><th scope=col>white_id</th><th scope=col>white_rating</th><th scope=col>...</th><th scope=col>opening_eco</th><th scope=col>opening_name</th><th scope=col>opening_ply</th><th scope=col>white_win</th><th scope=col>black_win</th><th scope=col>draw</th><th scope=col>white_ranking_cat</th><th scope=col>ranting_difrents</th><th scope=col>rating_diffrents_cat</th><th scope=col>turns_cat</th></tr></thead>\n",
       "<tbody>\n",
       "\t<tr><td>TZJHLljE                        </td><td>False                           </td><td>1.50421e+12                     </td><td>1.50421e+12                     </td><td>13                              </td><td>outoftime                       </td><td>white                           </td><td>15+2                            </td><td>bourgris                        </td><td>1500                            </td><td>...                             </td><td>D10                             </td><td>Slav Defense: Exchange Variation</td><td>5                               </td><td>1                               </td><td>0                               </td><td>0                               </td><td>1500                            </td><td>309                             </td><td>300                             </td><td>10                              </td></tr>\n",
       "</tbody>\n",
       "</table>\n"
      ],
      "text/latex": [
       "\\begin{tabular}{r|lllllllllllllllllllllll}\n",
       " id & rated & created\\_at & last\\_move\\_at & turns & victory\\_status & winner & increment\\_code & white\\_id & white\\_rating & ... & opening\\_eco & opening\\_name & opening\\_ply & white\\_win & black\\_win & draw & przedzial\\_rankingu\\_bialego & ranting\\_difrents & przedzial\\_roznicy\\_rankingu & przedzial\\_czasu\\\\\n",
       "\\hline\n",
       "\t TZJHLljE                         & False                            & 1.50421e+12                      & 1.50421e+12                      & 13                               & outoftime                        & white                            & 15+2                             & bourgris                         & 1500                             & ...                              & D10                              & Slav Defense: Exchange Variation & 5                                & 1                                & 0                                & 0                                & 1500                             & 309                              & 300                              & 10                              \\\\\n",
       "\\end{tabular}\n"
      ],
      "text/markdown": [
       "\n",
       "| id | rated | created_at | last_move_at | turns | victory_status | winner | increment_code | white_id | white_rating | ... | opening_eco | opening_name | opening_ply | white_win | black_win | draw | white_ranking_cat | ranting_difrents | rating_diffrents_cat | turns_cat |\n",
       "|---|---|---|---|---|---|---|---|---|---|---|---|---|---|---|---|---|---|---|---|---|\n",
       "| TZJHLljE                         | False                            | 1.50421e+12                      | 1.50421e+12                      | 13                               | outoftime                        | white                            | 15+2                             | bourgris                         | 1500                             | ...                              | D10                              | Slav Defense: Exchange Variation | 5                                | 1                                | 0                                | 0                                | 1500                             | 309                              | 300                              | 10                               |\n",
       "\n"
      ],
      "text/plain": [
       "  id       rated created_at  last_move_at turns victory_status winner\n",
       "1 TZJHLljE False 1.50421e+12 1.50421e+12  13    outoftime      white \n",
       "  increment_code white_id white_rating ... opening_eco\n",
       "1 15+2           bourgris 1500         ... D10        \n",
       "  opening_name                     opening_ply white_win black_win draw\n",
       "1 Slav Defense: Exchange Variation 5           1         0         0   \n",
       "  white_ranking_cat ranting_difrents rating_diffrents_cat\n",
       "1 1500                       309              300                       \n",
       "  turns_cat\n",
       "1 10             "
      ]
     },
     "metadata": {},
     "output_type": "display_data"
    }
   ],
   "source": [
    "df <-  df %>% mutate(\n",
    "    white_win = ifelse(winner =='white',1,0),\n",
    "    black_win = ifelse(winner =='black',1,0),\n",
    "    draw = ifelse(winner =='draw',1,0)\n",
    ")\n",
    "df <- cbind(df,white_ranking_cat=(df$white_rating %/% 100 + 1) * 100)\n",
    "df <- cbind(df,ranting_difrents=df$white_rating-df$black_rating)\n",
    "df <- cbind(df,rating_diffrents_cat=(df$ranting_difrents %/% 100 + 1)* 100)\n",
    "df <- cbind(df,turns_cat=(df$turns %/% 10 + 1)* 10)\n",
    "head(df,1)"
   ]
  },
  {
   "cell_type": "markdown",
   "metadata": {},
   "source": []
  },
  {
   "cell_type": "code",
   "execution_count": 4,
   "metadata": {
    "vscode": {
     "languageId": "r"
    }
   },
   "outputs": [
    {
     "ename": "ERROR",
     "evalue": "Error in str_detect(opening_name, \":\"): nie udało się znaleźć funkcji 'str_detect'\n",
     "output_type": "error",
     "traceback": [
      "Error in str_detect(opening_name, \":\"): nie udało się znaleźć funkcji 'str_detect'\nTraceback:\n"
     ]
    }
   ],
   "source": [
    "openings <- vector()\n",
    "\n",
    "for(i in 1:nrow(df)){\n",
    "  \n",
    "  opening_name <- df[i, c(\"opening_name\")]\n",
    "  \n",
    "  if(str_detect(opening_name, \":\") == TRUE){\n",
    "    \n",
    "    location <- str_locate(opening_name, \":\")\n",
    "    openings[i] <- str_sub(opening_name, 1, location[1,1] - 1)\n",
    "  }\n",
    "  \n",
    "  else if(str_detect(opening_name, \"#\") == TRUE){\n",
    "    \n",
    "    location <- str_locate(opening_name, \"#\")\n",
    "    openings[i] <- str_sub(opening_name, 1, location[1,1] - 2)\n",
    "  }\n",
    "  \n",
    "  else if(str_detect(opening_name, \"\\\\|\") == TRUE){\n",
    "    \n",
    "    \n",
    "    location <- str_locate(opening_name, \"\\\\|\")\n",
    "    openings[i] <- str_sub(opening_name, 1, location[1,1] - 1)\n",
    "  }\n",
    "  \n",
    "  else{\n",
    "    \n",
    "    openings[i] <- df[i, c(\"opening_name\")]\n",
    "    \n",
    "  }\n",
    "  \n",
    "  \n",
    "}\n",
    "\n",
    "df[\"openings_general\"] <- openings"
   ]
  },
  {
   "cell_type": "markdown",
   "metadata": {},
   "source": [
    "### Analiza na podstawie rankingu białego "
   ]
  },
  {
   "cell_type": "code",
   "execution_count": 250,
   "metadata": {
    "vscode": {
     "languageId": "r"
    }
   },
   "outputs": [],
   "source": [
    "samplemean <- function(x, d) {\n",
    "    mean(x[d])\n",
    "}\n",
    "generate_data <- function(df, column, place){ \n",
    "    white_win <- numeric()\n",
    "    white_win_bottom <- numeric()\n",
    "    white_win_top <- numeric()\n",
    "    black_win <- numeric()\n",
    "    black_win_bottom <- numeric()\n",
    "    black_win_top <- numeric()\n",
    "    draw <- numeric()\n",
    "    draw_bottom <- numeric()\n",
    "    draw_top <- numeric()\n",
    "    values <- numeric()\n",
    "\n",
    "    for (value in sort(unique(column))) {\n",
    "        # print(value)\n",
    "        df2 <- df[which(column == value), ]\n",
    "        if (count(df2) > 10  ) {\n",
    "            # print(\"Tak\")\n",
    "            values <- append(values,value)\n",
    "            white_ciboot <- boot.ci(boot(df2$white_win, samplemean, R = 1000), conf = 0.95, c(\"perc\"))\n",
    "            white_win <- append(white_win, white_ciboot$t0)\n",
    "            white_win_bottom <- append(white_win_bottom, white_ciboot$perc[4])\n",
    "            white_win_top <- append(white_win_top, white_ciboot$perc[5])\n",
    "\n",
    "            black_ciboot <- boot.ci(boot(df2$black_win, samplemean, R = 1000), conf = 0.95, c(\"perc\"))\n",
    "            black_win <- append(black_win, black_ciboot$t0)\n",
    "            black_win_bottom <- append(black_win_bottom, black_ciboot$perc[4])\n",
    "            black_win_top <- append(black_win_top, black_ciboot$perc[5])\n",
    "\n",
    "            draw_ciboot <- boot.ci(boot(df2$draw, samplemean, R = 1000), conf = 0.95, c(\"perc\"))\n",
    "            draw <- append(draw, draw_ciboot$t0)\n",
    "            draw_bottom <- append(draw_bottom, draw_ciboot$perc[4])\n",
    "            draw_top <- append(draw_top, draw_ciboot$perc[5])\n",
    "            # print(draw_bottom)      \n",
    "        }\n",
    "    }\n",
    "    new_df <- data.frame(values, white_win,white_win_top,white_win_bottom, black_win,black_win_top,black_win_bottom,draw,draw_bottom,draw_top)\n",
    "    write_csv(new_df, place)\n",
    "}\n",
    "\n",
    "# print(new_df)"
   ]
  },
  {
   "cell_type": "code",
   "execution_count": 251,
   "metadata": {
    "vscode": {
     "languageId": "r"
    }
   },
   "outputs": [],
   "source": [
    "generate_data(df,df$white_ranking_cat, \"C:/Users/mkarc/Gauus/Chess-analysis/winner_depend_ranting.csv\")"
   ]
  },
  {
   "cell_type": "code",
   "execution_count": 252,
   "metadata": {
    "vscode": {
     "languageId": "r"
    }
   },
   "outputs": [
    {
     "data": {
      "image/png": "[encoded data removed]",
      "text/plain": [
       "plot without title"
      ]
     },
     "metadata": {},
     "output_type": "display_data"
    }
   ],
   "source": [
    "new_df = read.csv(\"C:/Users/mkarc/Gauus/Chess-analysis/winner_depend_ranting.csv\")\n",
    "plot_white <- ggplot(data=new_df,aes(x=values,y=white_win))  + geom_bar(stat='identity')+ geom_errorbar(aes(ymin=white_win_bottom,ymax=white_win_top),color = \"red\",width=.05)+\n",
    "    labs(x = 'ranting białego', y = 'Prawdopodobieństwo wygranej' , title=\"Wygrana białego\") \n",
    "plot_black <- ggplot(data=new_df,aes(x=values,y=black_win)) + geom_bar(stat='identity') + geom_errorbar(aes(ymin=black_win_bottom,ymax=black_win_top),color = \"red\",width=.05)+\n",
    "    labs(x = 'ranting białego', y = 'Prawdopodobieństwo wygranej' , title=\"Wygrana czarnego\") \n",
    "plot_draw <- ggplot(data=new_df,aes(x=values,y=draw)) + geom_bar(stat='identity')+ geom_errorbar(aes(ymin=draw_bottom,ymax=draw_top),color = \"red\",width=.05)+\n",
    "    labs(x = 'ranting białego', y = 'Prawdopodobieństwo wygranej' , title=\"Remis\") \n",
    "\n",
    "\n",
    "grid.arrange(plot_white,plot_black,plot_draw)"
   ]
  },
  {
   "cell_type": "markdown",
   "metadata": {},
   "source": [
    "## Wynik od różnicy rantingu"
   ]
  },
  {
   "cell_type": "code",
   "execution_count": 253,
   "metadata": {
    "vscode": {
     "languageId": "r"
    }
   },
   "outputs": [],
   "source": [
    "generate_data(df,df$rating_diffrents_cat, \"C:/Users/mkarc/Gauus/Chess-analysis/winner_depend_diffrents_ranting.csv\")"
   ]
  },
  {
   "cell_type": "code",
   "execution_count": 6,
   "metadata": {
    "vscode": {
     "languageId": "r"
    }
   },
   "outputs": [
    {
     "ename": "ERROR",
     "evalue": "Error in ggplot(data = df, mapping = aes(x = ranting_difrents)): nie udało się znaleźć funkcji 'ggplot'\n",
     "output_type": "error",
     "traceback": [
      "Error in ggplot(data = df, mapping = aes(x = ranting_difrents)): nie udało się znaleźć funkcji 'ggplot'\nTraceback:\n"
     ]
    }
   ],
   "source": [
    "ggplot(data=df, mapping=aes(x=ranting_difrents)) +  geom_bar(stat='identity')+ \n",
    "    labs(x = 'różnica rantingu' , title=\"Rozkład  różnic rantingu\") "
   ]
  },
  {
   "cell_type": "code",
   "execution_count": 254,
   "metadata": {
    "vscode": {
     "languageId": "r"
    }
   },
   "outputs": [
    {
     "data": {
      "image/png": "[encoded data removed]",
      "text/plain": [
       "plot without title"
      ]
     },
     "metadata": {},
     "output_type": "display_data"
    }
   ],
   "source": [
    "new_df = read.csv(\"C:/Users/mkarc/Gauus/Chess-analysis/winner_depend_diffrents_ranting.csv\")\n",
    "plot_white <- ggplot(data=new_df,aes(x=values,y=white_win))  + geom_bar(stat='identity')+ geom_errorbar(aes(ymin=white_win_bottom,ymax=white_win_top),color = \"red\",width=.05)+\n",
    "    labs(x = 'różnica w rankingu', y = 'Prawdopodobieństwo wygranej' , title=\"Wygrana białego\") \n",
    "plot_black <- ggplot(data=new_df,aes(x=values,y=black_win)) + geom_bar(stat='identity') + geom_errorbar(aes(ymin=black_win_bottom,ymax=black_win_top),color = \"red\",width=.05)+\n",
    "    labs(x = 'różnica w rankigu', y = 'Prawdopodobieństwo wygranej' , title=\"Wygrana czarnego\") \n",
    "plot_draw <- ggplot(data=new_df,aes(x=values,y=draw)) + geom_bar(stat='identity')+ geom_errorbar(aes(ymin=draw_bottom,ymax=draw_top),color = \"red\",width=.05)+\n",
    "    labs(x = 'różnica w rankingu', y = 'Prawdopodobieństwo wygranej' , title=\"Remis\") \n",
    "\n",
    "\n",
    "grid.arrange(plot_white,plot_black,plot_draw)"
   ]
  },
  {
   "cell_type": "markdown",
   "metadata": {},
   "source": [
    "## Wynik od czasu"
   ]
  },
  {
   "cell_type": "code",
   "execution_count": 256,
   "metadata": {
    "vscode": {
     "languageId": "r"
    }
   },
   "outputs": [],
   "source": [
    "generate_data(df,df$turns_cat, \"C:/Users/mkarc/Gauus/Chess-analysis/winner_depend_turns.csv\")"
   ]
  },
  {
   "cell_type": "code",
   "execution_count": null,
   "metadata": {
    "vscode": {
     "languageId": "r"
    }
   },
   "outputs": [],
   "source": [
    "new_df = read.csv(\"C:/Users/mkarc/Gauus/Chess-analysis/winner_depend_turns.csv\")\n",
    "plot_white <- ggplot(data=new_df,aes(x=values,y=white_win))  + geom_bar(stat='identity')+ geom_errorbar(aes(ymin=white_win_bottom,ymax=white_win_top),color = \"red\",width=.05)+\n",
    "    labs(x = 'Ilość ruchów', y = 'Prawdopodobieństwo wygranej' , title=\"Wygrana białego\") \n",
    "plot_black <- ggplot(data=new_df,aes(x=values,y=black_win)) + geom_bar(stat='identity') + geom_errorbar(aes(ymin=black_win_bottom,ymax=black_win_top),color = \"red\",width=.05)+\n",
    "    labs(x = 'Ilość ruchów', y = 'Prawdopodobieństwo wygranej' , title=\"Wygrana czarnego\") \n",
    "plot_draw <- ggplot(data=new_df,aes(x=values,y=draw)) + geom_bar(stat='identity')+ geom_errorbar(aes(ymin=draw_bottom,ymax=draw_top),color = \"red\",width=.05)+\n",
    "    labs(x = 'Ilość ruchów', y = 'Prawdopodobieństwo wygranej' , title=\"Remis\") \n",
    "\n",
    "grid.arrange(plot_white,plot_black,plot_draw)"
   ]
  },
  {
   "cell_type": "code",
   "execution_count": null,
   "metadata": {
    "vscode": {
     "languageId": "r"
    }
   },
   "outputs": [],
   "source": []
  }
 ],
 "metadata": {
  "kernelspec": {
   "display_name": "R",
   "language": "R",
   "name": "ir"
  },
  "language_info": {
   "codemirror_mode": "r",
   "file_extension": ".r",
   "mimetype": "text/x-r-source",
   "name": "R",
   "pygments_lexer": "r",
   "version": "3.6.1"
  },
  "orig_nbformat": 4,
  "vscode": {
   "interpreter": {
    "hash": "6fe1c782b1ce644a7249b60894882dc712170c605cbe70c487a65803b7cd19d5"
   }
  }
 },
 "nbformat": 4,
 "nbformat_minor": 2
}
